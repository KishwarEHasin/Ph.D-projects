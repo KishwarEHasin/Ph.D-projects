{
 "cells": [
  {
   "cell_type": "markdown",
   "metadata": {},
   "source": [
    "## Polarization along x, y and z axis\n",
    "### Created by Kishwar-E Hasin"
   ]
  },
  {
   "cell_type": "code",
   "execution_count": 63,
   "metadata": {
    "scrolled": false
   },
   "outputs": [
    {
     "name": "stdout",
     "output_type": "stream",
     "text": [
      "Polarization, Px= 6.549486095221103 (uC/cm^2)\n",
      "Polarization, Py= -0.0006793724333228391 (uC/cm^2)\n",
      "Polarization, Pz= 3.471460986603647e-05 (uC/cm^2)\n",
      "Total Polarization, P = 6.548841437397646 (uC/cm^2)\n"
     ]
    }
   ],
   "source": [
    "#!/usr/bin/python\n",
    "import pandas as pd\n",
    "import numpy as np\n",
    "import math\n",
    "from itertools import islice\n",
    "\n",
    "# Put Filenames and paqrameters\n",
    "high_symmetry_file_name = \"HS\"\n",
    "low_symmetry_file_name = \"CONTCAR\"\n",
    "output_file_name = \"OUTCAR\"\n",
    "DISPLACEMENT_THRESHOLD = 0.89       # Change according to the positions of low symmetry POSCAR\n",
    "PRINT_THRESHOLD = 0.000001          # Print if the absolute polarization is larger than this value\n",
    "#=========================Change above file names and parameter\n",
    "\n",
    "# Step 1: Load high symmetry and low symmetry POSCAR data and calculate displacement\n",
    "with open(high_symmetry_file_name) as hs_lines:\n",
    "    lattice_parameter = np.genfromtxt(islice(hs_lines, 2, 5))\n",
    "    volume = np.prod(np.diag(lattice_parameter))\n",
    "    for i, line in enumerate(hs_lines):\n",
    "        if i == 1:\n",
    "            n_atom = sum(map(int, line.strip().split()))\n",
    "            break\n",
    "    high_symmetry_position = np.genfromtxt(islice(hs_lines, 1, n_atom + 1))\n",
    "\n",
    "with open(low_symmetry_file_name) as ls_file:\n",
    "    low_symmetry_position = np.genfromtxt(islice(ls_file, 8, n_atom + 8))\n",
    "    displacement_data = low_symmetry_position - high_symmetry_position\n",
    "    #print (displacement_data)\n",
    "    displacement_data = np.where(displacement_data > DISPLACEMENT_THRESHOLD, displacement_data - 1, displacement_data)\n",
    "    displacement_data = np.where(displacement_data < -DISPLACEMENT_THRESHOLD, displacement_data + 1, displacement_data)\n",
    "    #print (displacement_data)\n",
    "    sum_ = np.sum(displacement_data, axis=0)\n",
    "    if np.any(sum_ != 0):\n",
    "        correction = sum_ / n_atom\n",
    "        displacement_corrected = displacement_data - correction\n",
    "    displacement = displacement_corrected * np.diag(lattice_parameter)\n",
    "\n",
    "# Function to calculate polarization in a given direction\n",
    "def calculate_polarization(direction_index, ion_index):\n",
    "    displacement_to_calculate = displacement[:, direction_index]\n",
    "    lookup_starts = [\n",
    "        ' BORN EFFECTIVE CHARGES (in e, cummulative output)',  # For VASP 5\n",
    "        ' BORN EFFECTIVE CHARGES (including local field effects) (in |e|, cummulative output)'  # For VASP 6\n",
    "    ]\n",
    "    lookup_end = ' INTERNAL STRAIN TENSOR FOR ION    1 for displacements in x,y,z  (eV/Angst):'\n",
    "\n",
    "    capture_line = False\n",
    "    outcar_data = []\n",
    "    start_line_number = None\n",
    "\n",
    "    with open(output_file_name) as outcar_file:\n",
    "        for num, line in enumerate(outcar_file, 1):\n",
    "            if any(lookup_start in line for lookup_start in lookup_starts):\n",
    "                start_line_number = num\n",
    "                capture_line = True\n",
    "                continue\n",
    "            if start_line_number and num == start_line_number + 1:\n",
    "                continue\n",
    "            if capture_line:\n",
    "                if ' ion ' in line:\n",
    "                    continue\n",
    "                if f'    {ion_index}    ' in line:\n",
    "                    outcar_data.append(line.strip())\n",
    "            if lookup_end in line:\n",
    "                capture_line = False\n",
    "                break\n",
    "\n",
    "    if not outcar_data:\n",
    "        raise ValueError(f\"No BORN effective charges found for ion index {ion_index}\")\n",
    "\n",
    "    born_effective_charge_to_calculate = [line.split()[ion_index] for line in outcar_data]\n",
    "    total_dipole_moment = sum(float(displacement_to_calculate[i]) * float(born_effective_charge_to_calculate[i]) for i in range(len(born_effective_charge_to_calculate)))\n",
    "\n",
    "    multiplication_factor = 1602.3  # Convert e/A^2 to uC/cm^2\n",
    "    polarization = (multiplication_factor * total_dipole_moment) / volume\n",
    "    return polarization\n",
    "\n",
    "\n",
    "# Define labels for directions\n",
    "labels = ['x', 'y', 'z']\n",
    "\n",
    "# Calculate polarizations for x, y, and z directions and print them with labels\n",
    "polarizations = []\n",
    "for i in range(3):\n",
    "    polarization = calculate_polarization(i, i + 1)\n",
    "    if abs(polarization) > PRINT_THRESHOLD:\n",
    "        print(f\"Polarization, P{labels[i]}= {polarization} (uC/cm^2)\")\n",
    "    polarizations.append(polarization)\n",
    "    \n",
    "# Calculate and print total polarization\n",
    "total_polarization = sum(polarizations)\n",
    "print(f\"Total Polarization, P = {total_polarization} (uC/cm^2)\")\n"
   ]
  },
  {
   "cell_type": "code",
   "execution_count": null,
   "metadata": {},
   "outputs": [],
   "source": []
  },
  {
   "cell_type": "code",
   "execution_count": null,
   "metadata": {},
   "outputs": [],
   "source": []
  }
 ],
 "metadata": {
  "kernelspec": {
   "display_name": "Python 3",
   "language": "python",
   "name": "python3"
  },
  "language_info": {
   "codemirror_mode": {
    "name": "ipython",
    "version": 3
   },
   "file_extension": ".py",
   "mimetype": "text/x-python",
   "name": "python",
   "nbconvert_exporter": "python",
   "pygments_lexer": "ipython3",
   "version": "3.9.13"
  }
 },
 "nbformat": 4,
 "nbformat_minor": 4
}
